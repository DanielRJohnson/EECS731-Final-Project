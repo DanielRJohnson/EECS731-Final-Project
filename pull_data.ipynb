{
 "cells": [
  {
   "cell_type": "code",
   "execution_count": 1,
   "metadata": {},
   "outputs": [],
   "source": [
    "import pandas as pd\n",
    "import numpy as np\n",
    "from sodapy import Socrata"
   ]
  },
  {
   "cell_type": "code",
   "execution_count": 2,
   "metadata": {},
   "outputs": [
    {
     "name": "stderr",
     "output_type": "stream",
     "text": [
      "WARNING:root:Requests made without an app_token will be subject to strict throttling limits.\n"
     ]
    }
   ],
   "source": [
    "client = Socrata(\"data.cdc.gov\", None)\n",
    "# don't allow missing values for hosp_yn, icu_yn, death_yn, sex, race, ethnicity, and age_group\n",
    "where = 'hosp_yn != \"Missing\" and hosp_yn != \"Unknown\" and ' + \\\n",
    "        'icu_yn != \"Missing\" and icu_yn != \"Unknown\" and ' + \\\n",
    "        'death_yn != \"Missing\" and death_yn != \"Unknown\" and death_yn != \"NA\" and ' + \\\n",
    "        'sex != \"NA\" and race != \"NA\" and ethnicity != \"NA\" and age_group != \"Missing\"'\n",
    "results = client.get(\"n8mc-b4w4\", where=where, limit=1_000_000_000_000) # large limit to get all data\n",
    "cdc_df = pd.DataFrame.from_records(results)"
   ]
  },
  {
   "cell_type": "code",
   "execution_count": 3,
   "metadata": {},
   "outputs": [
    {
     "name": "stdout",
     "output_type": "stream",
     "text": [
      "Number of rows: 1,541,620\n"
     ]
    },
    {
     "data": {
      "text/html": [
       "<div>\n",
       "<style scoped>\n",
       "    .dataframe tbody tr th:only-of-type {\n",
       "        vertical-align: middle;\n",
       "    }\n",
       "\n",
       "    .dataframe tbody tr th {\n",
       "        vertical-align: top;\n",
       "    }\n",
       "\n",
       "    .dataframe thead th {\n",
       "        text-align: right;\n",
       "    }\n",
       "</style>\n",
       "<table border=\"1\" class=\"dataframe\">\n",
       "  <thead>\n",
       "    <tr style=\"text-align: right;\">\n",
       "      <th></th>\n",
       "      <th>case_month</th>\n",
       "      <th>res_state</th>\n",
       "      <th>state_fips_code</th>\n",
       "      <th>res_county</th>\n",
       "      <th>county_fips_code</th>\n",
       "      <th>age_group</th>\n",
       "      <th>sex</th>\n",
       "      <th>race</th>\n",
       "      <th>ethnicity</th>\n",
       "      <th>case_positive_specimen</th>\n",
       "      <th>case_onset_interval</th>\n",
       "      <th>process</th>\n",
       "      <th>exposure_yn</th>\n",
       "      <th>current_status</th>\n",
       "      <th>symptom_status</th>\n",
       "      <th>hosp_yn</th>\n",
       "      <th>icu_yn</th>\n",
       "      <th>death_yn</th>\n",
       "      <th>underlying_conditions_yn</th>\n",
       "    </tr>\n",
       "  </thead>\n",
       "  <tbody>\n",
       "    <tr>\n",
       "      <th>0</th>\n",
       "      <td>2020-10</td>\n",
       "      <td>NV</td>\n",
       "      <td>32</td>\n",
       "      <td>CLARK</td>\n",
       "      <td>32003</td>\n",
       "      <td>0 - 17 years</td>\n",
       "      <td>Male</td>\n",
       "      <td>White</td>\n",
       "      <td>Non-Hispanic/Latino</td>\n",
       "      <td>0</td>\n",
       "      <td>0</td>\n",
       "      <td>Routine surveillance</td>\n",
       "      <td>Missing</td>\n",
       "      <td>Laboratory-confirmed case</td>\n",
       "      <td>Symptomatic</td>\n",
       "      <td>No</td>\n",
       "      <td>No</td>\n",
       "      <td>No</td>\n",
       "      <td>NaN</td>\n",
       "    </tr>\n",
       "    <tr>\n",
       "      <th>1</th>\n",
       "      <td>2022-03</td>\n",
       "      <td>OH</td>\n",
       "      <td>39</td>\n",
       "      <td>CUYAHOGA</td>\n",
       "      <td>39035</td>\n",
       "      <td>18 to 49 years</td>\n",
       "      <td>Female</td>\n",
       "      <td>White</td>\n",
       "      <td>Non-Hispanic/Latino</td>\n",
       "      <td>0</td>\n",
       "      <td>0</td>\n",
       "      <td>Clinical evaluation</td>\n",
       "      <td>Yes</td>\n",
       "      <td>Laboratory-confirmed case</td>\n",
       "      <td>Symptomatic</td>\n",
       "      <td>No</td>\n",
       "      <td>No</td>\n",
       "      <td>No</td>\n",
       "      <td>Yes</td>\n",
       "    </tr>\n",
       "    <tr>\n",
       "      <th>2</th>\n",
       "      <td>2020-10</td>\n",
       "      <td>NV</td>\n",
       "      <td>32</td>\n",
       "      <td>CLARK</td>\n",
       "      <td>32003</td>\n",
       "      <td>0 - 17 years</td>\n",
       "      <td>Male</td>\n",
       "      <td>White</td>\n",
       "      <td>Non-Hispanic/Latino</td>\n",
       "      <td>0</td>\n",
       "      <td>0</td>\n",
       "      <td>Multiple</td>\n",
       "      <td>Yes</td>\n",
       "      <td>Laboratory-confirmed case</td>\n",
       "      <td>Symptomatic</td>\n",
       "      <td>No</td>\n",
       "      <td>No</td>\n",
       "      <td>No</td>\n",
       "      <td>NaN</td>\n",
       "    </tr>\n",
       "    <tr>\n",
       "      <th>3</th>\n",
       "      <td>2020-10</td>\n",
       "      <td>NV</td>\n",
       "      <td>32</td>\n",
       "      <td>CLARK</td>\n",
       "      <td>32003</td>\n",
       "      <td>0 - 17 years</td>\n",
       "      <td>Male</td>\n",
       "      <td>White</td>\n",
       "      <td>Non-Hispanic/Latino</td>\n",
       "      <td>0</td>\n",
       "      <td>0</td>\n",
       "      <td>Routine surveillance</td>\n",
       "      <td>Missing</td>\n",
       "      <td>Laboratory-confirmed case</td>\n",
       "      <td>Symptomatic</td>\n",
       "      <td>No</td>\n",
       "      <td>No</td>\n",
       "      <td>No</td>\n",
       "      <td>NaN</td>\n",
       "    </tr>\n",
       "    <tr>\n",
       "      <th>4</th>\n",
       "      <td>2022-03</td>\n",
       "      <td>OH</td>\n",
       "      <td>39</td>\n",
       "      <td>CUYAHOGA</td>\n",
       "      <td>39035</td>\n",
       "      <td>18 to 49 years</td>\n",
       "      <td>Female</td>\n",
       "      <td>White</td>\n",
       "      <td>Non-Hispanic/Latino</td>\n",
       "      <td>0</td>\n",
       "      <td>NaN</td>\n",
       "      <td>Clinical evaluation</td>\n",
       "      <td>Yes</td>\n",
       "      <td>Laboratory-confirmed case</td>\n",
       "      <td>Symptomatic</td>\n",
       "      <td>No</td>\n",
       "      <td>No</td>\n",
       "      <td>No</td>\n",
       "      <td>No</td>\n",
       "    </tr>\n",
       "  </tbody>\n",
       "</table>\n",
       "</div>"
      ],
      "text/plain": [
       "  case_month res_state state_fips_code res_county county_fips_code  \\\n",
       "0    2020-10        NV              32      CLARK            32003   \n",
       "1    2022-03        OH              39   CUYAHOGA            39035   \n",
       "2    2020-10        NV              32      CLARK            32003   \n",
       "3    2020-10        NV              32      CLARK            32003   \n",
       "4    2022-03        OH              39   CUYAHOGA            39035   \n",
       "\n",
       "        age_group     sex   race            ethnicity case_positive_specimen  \\\n",
       "0    0 - 17 years    Male  White  Non-Hispanic/Latino                      0   \n",
       "1  18 to 49 years  Female  White  Non-Hispanic/Latino                      0   \n",
       "2    0 - 17 years    Male  White  Non-Hispanic/Latino                      0   \n",
       "3    0 - 17 years    Male  White  Non-Hispanic/Latino                      0   \n",
       "4  18 to 49 years  Female  White  Non-Hispanic/Latino                      0   \n",
       "\n",
       "  case_onset_interval               process exposure_yn  \\\n",
       "0                   0  Routine surveillance     Missing   \n",
       "1                   0   Clinical evaluation         Yes   \n",
       "2                   0              Multiple         Yes   \n",
       "3                   0  Routine surveillance     Missing   \n",
       "4                 NaN   Clinical evaluation         Yes   \n",
       "\n",
       "              current_status symptom_status hosp_yn icu_yn death_yn  \\\n",
       "0  Laboratory-confirmed case    Symptomatic      No     No       No   \n",
       "1  Laboratory-confirmed case    Symptomatic      No     No       No   \n",
       "2  Laboratory-confirmed case    Symptomatic      No     No       No   \n",
       "3  Laboratory-confirmed case    Symptomatic      No     No       No   \n",
       "4  Laboratory-confirmed case    Symptomatic      No     No       No   \n",
       "\n",
       "  underlying_conditions_yn  \n",
       "0                      NaN  \n",
       "1                      Yes  \n",
       "2                      NaN  \n",
       "3                      NaN  \n",
       "4                       No  "
      ]
     },
     "execution_count": 3,
     "metadata": {},
     "output_type": "execute_result"
    }
   ],
   "source": [
    "print(f\"Number of rows: {len(cdc_df):,}\")\n",
    "cdc_df.head()"
   ]
  },
  {
   "cell_type": "code",
   "execution_count": 4,
   "metadata": {},
   "outputs": [
    {
     "name": "stdout",
     "output_type": "stream",
     "text": [
      "=== Unique values of hosp_yn, icu_yn, and death_yn ===\n",
      "['No' 'Yes'] (2)\n",
      "['No' 'Yes'] (2)\n",
      "['No' 'Yes'] (2)\n"
     ]
    }
   ],
   "source": [
    "print(\"=== Unique values of hosp_yn, icu_yn, and death_yn ===\")\n",
    "hosp = pd.unique(cdc_df['hosp_yn'])\n",
    "print(f\"{hosp} ({len(hosp)})\")\n",
    "icu = pd.unique(cdc_df['icu_yn'])\n",
    "print(f\"{icu} ({len(icu)})\")\n",
    "death = pd.unique(cdc_df['death_yn'])\n",
    "print(f\"{death} ({len(death)})\")"
   ]
  },
  {
   "cell_type": "code",
   "execution_count": 5,
   "metadata": {},
   "outputs": [
    {
     "name": "stdout",
     "output_type": "stream",
     "text": [
      "=== Unique values of case_month, res_state, and age_group ===\n",
      "['2020-02' '2020-03' '2020-04' '2020-05' '2020-06' '2020-07' '2020-08'\n",
      " '2020-09' '2020-10' '2020-11' '2020-12' '2021-01' '2021-02' '2021-03'\n",
      " '2021-04' '2021-05' '2021-06' '2021-07' '2021-08' '2021-09' '2021-10'\n",
      " '2021-11' '2021-12' '2022-01' '2022-02' '2022-03' '2022-04' '2022-05'\n",
      " '2022-06' '2022-07' '2022-08' '2022-09' '2022-10'] (33)\n",
      "['AK' 'AL' 'AR' 'AZ' 'CA' 'CO' 'DC' 'FL' 'GA' 'GU' 'IA' 'ID' 'IL' 'IN'\n",
      " 'KS' 'KY' 'LA' 'MA' 'MD' 'MI' 'MN' 'MO' 'MS' 'MT' 'NC' 'ND' 'NH' 'NJ'\n",
      " 'NV' 'NY' 'OH' 'OK' 'OR' 'PA' 'PR' 'SC' 'TN' 'TX' 'UT' 'VA' 'VI' 'VT'\n",
      " 'WA' 'WI' 'WY'] (45)\n",
      "['0 - 17 years' '18 to 49 years' '50 to 64 years' '65+ years'] (4)\n"
     ]
    }
   ],
   "source": [
    "print(\"=== Unique values of case_month, res_state, and age_group ===\")\n",
    "month = np.sort(pd.unique(cdc_df['case_month']))\n",
    "print(f\"{month} ({len(month)})\")\n",
    "state = np.sort(pd.unique(cdc_df['res_state']))\n",
    "print(f\"{state} ({len(state)})\")\n",
    "age = np.sort(pd.unique(cdc_df['age_group']))\n",
    "print(f\"{age} ({len(age)})\")"
   ]
  },
  {
   "cell_type": "code",
   "execution_count": 7,
   "metadata": {},
   "outputs": [],
   "source": [
    "cdc_df.to_csv(\"data/cdc_covid_data.csv\")"
   ]
  },
  {
   "cell_type": "code",
   "execution_count": null,
   "metadata": {},
   "outputs": [],
   "source": []
  }
 ],
 "metadata": {
  "kernelspec": {
   "display_name": "Python 3.11.0 ('main')",
   "language": "python",
   "name": "python3"
  },
  "language_info": {
   "codemirror_mode": {
    "name": "ipython",
    "version": 3
   },
   "file_extension": ".py",
   "mimetype": "text/x-python",
   "name": "python",
   "nbconvert_exporter": "python",
   "pygments_lexer": "ipython3",
   "version": "3.11.0"
  },
  "orig_nbformat": 4,
  "vscode": {
   "interpreter": {
    "hash": "c7fa6e65c4f227d77882d4bcc641a942485d93f6372413baaff8defdf53a058c"
   }
  }
 },
 "nbformat": 4,
 "nbformat_minor": 2
}
